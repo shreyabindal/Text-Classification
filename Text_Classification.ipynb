{
  "nbformat": 4,
  "nbformat_minor": 0,
  "metadata": {
    "colab": {
      "name": "Text Classification.ipynb",
      "version": "0.3.2",
      "provenance": [],
      "collapsed_sections": []
    },
    "kernelspec": {
      "name": "python3",
      "display_name": "Python 3"
    },
    "accelerator": "TPU"
  },
  "cells": [
    {
      "cell_type": "markdown",
      "metadata": {
        "id": "4qHIRhoTDWCM",
        "colab_type": "text"
      },
      "source": [
        "### Downloading dataset and extracting data"
      ]
    },
    {
      "cell_type": "code",
      "metadata": {
        "id": "lckc8q9yTl2_",
        "colab_type": "code",
        "outputId": "3b7892b7-b1a6-4a05-a7f5-1d55fb53cc7f",
        "colab": {
          "base_uri": "https://localhost:8080/",
          "height": 34
        }
      },
      "source": [
        "## Download the dataset\n",
        "import urllib.request\n",
        "# \"https://archive.ics.uci.edu/ml/machine-learning-databases/20newsgroups-mld/20_newsgroups.tar.gz\"\n",
        "\n",
        "urllib.request.urlretrieve (\"https://archive.ics.uci.edu/ml/machine-learning-databases/20newsgroups-mld/20_newsgroups.tar.gz\", \"a.tar.gz\")"
      ],
      "execution_count": 0,
      "outputs": [
        {
          "output_type": "execute_result",
          "data": {
            "text/plain": [
              "('a.tar.gz', <http.client.HTTPMessage at 0x7f157ce754e0>)"
            ]
          },
          "metadata": {
            "tags": []
          },
          "execution_count": 1
        }
      ]
    },
    {
      "cell_type": "code",
      "metadata": {
        "id": "aL69BfQgTlqa",
        "colab_type": "code",
        "colab": {}
      },
      "source": [
        "#Extracting the dataset\n",
        "import tarfile\n",
        "tar = tarfile.open(\"a.tar.gz\")\n",
        "tar.extractall()\n",
        "tar.close()"
      ],
      "execution_count": 0,
      "outputs": []
    },
    {
      "cell_type": "markdown",
      "metadata": {
        "id": "ONiKOT5QDdrJ",
        "colab_type": "text"
      },
      "source": [
        "### Import Statements\n",
        "- sklearn => for different metrics, train-test splitting and sklearn's Naive Bayes implementation\n",
        "- nltk => not used"
      ]
    },
    {
      "cell_type": "code",
      "metadata": {
        "id": "5kq8ws_4l2Zw",
        "colab_type": "code",
        "colab": {}
      },
      "source": [
        "# Importing required libraries\n",
        "import pandas as pd\n",
        "import numpy as np\n",
        "import os\n",
        "import string, re\n",
        "from sklearn.metrics import classification_report\n",
        "from sklearn.metrics import accuracy_score\n",
        "from sklearn.metrics import confusion_matrix\n",
        "from sklearn.model_selection import train_test_split\n",
        "from sklearn.naive_bayes import MultinomialNB"
      ],
      "execution_count": 0,
      "outputs": []
    },
    {
      "cell_type": "code",
      "metadata": {
        "id": "S6u4ejnLl9Z-",
        "colab_type": "code",
        "colab": {}
      },
      "source": [
        "# Stop words - generally to be avoided\n",
        "stop_words = ['will', 'werent', 'whom', 'un', 'seem', 'contains', 'just', 'briefly', 'whither', 'meantime', 'shown', 'largely', 'nearly', 'corresponding', 'nobody', 'such', 'specifically', 'saying', 'changes', 'appropriate', 'arise', 'inasmuch', 'regardless', 'taken', 'wish', 'consequently', 'alone', \"they'll\", 'not', 'rather', 'thickv', 'th', 'one', 'quickly', 'hed', 'doing', 'selves', 'besides', 'once', 'latterly', 'act', 'example', 'he', 'namely', 'hasn', 'research', 'most', 'needn', 'nevertheless', 'both', 'necessarily', 's', 'never', 'next', 'hello', 'keep', \"c'mon\", 'inc', 'date', 'don', 'away', 'have', 'mrs', 'placed', \"let's\", 'despite', 'etc', \"should've\", 'anywhere', 'whole', \"you'd\", \"there've\", 'followed', 'beginnings', 'recently', 'formerly', 'does', 'liked', 'seeing', 'we', 'am', 'ref', 'actually', 'hither', 'containing', 'after', 'hadn', 'self', 'beside', 'everywhere', 'help', 'shouldn', 'third', 'likely', 'shes', 'wed', 'available', 'there', 'won', 'second', 'twelve', 'happens', 'went', 'sure', 'the', 'right', 'throug', 'perhaps', 'took', 'further', \"mightn't\", 'see', 'aside', 'edu', 'r', 'thats', \"i'd\", 've', 'obviously', 'amongst', 'ever', \"i'm\", 'indicated', 'isn', 'merely', \"ain't\", \"shouldn't\", 'cause', 'kept', 'in', 'now', 'together', 'q', 'line', 'always', 'doesn', 'moreover', 'on', 'move', 'successfully', 'say', 'causes', 'usually', 'still', 'those', 'hundred', 'has', 'okay', 'like', 'ending', 'mostly', 'else', 'ran', 'didn', 'over', 'definitely', 'thoroughly', 'theirs', 'out', 'how', 'overall', 'least', 'try', 'for', 'anyone', 'regarding', 'interest', \"they're\", 'certain', 'having', 'slightly', 'indicates', 'accordance', 'already', 'seven', 'toward', 'ninety', 'viz', 'ie', 'had', 'normally', 'several', 'welcome', 'youd', 'eg', 'mg', 'more', \"a's\", 'however', 'noted', 'old', 'much', 'qv', 'whereby', 'thank', 'considering', 'theres', 'appreciate', 'give', 'immediately', 'nowhere', 'couldn', 'respectively', 'n', 'e', 'via', 'three', 'onto', 'better', 'says', 'secondly', 'hardly', 'call', 'h', 'sec', 'got', 'sub', 'o', 'me', 'present', \"it'll\", 'being', 'inner', 'first', 'currently', 'various', 'want', 'wouldn', 'plus', 'last', 'mine', 'resulted', 'top', 'sufficiently', 'do', 'whereafter', 'any', 'reasonably', 'six', 'done', 'consider', 'immediate', 'detail', 'same', 'approximately', 'hi', 'indeed', 'ex', 'km', 'possible', 'wants', 'vols', 'k', 'able', 'sent', 'especially', 'invention', 'whereupon', 'off', 'p', 'upon', 'mightn', 'provides', 'shows', 'twice', 'hers', 'although', 'showed', 'tip', 'she', 'when', 'by', 'obtained', 'soon', 'appear', 'affects', 'gets', 'owing', 'former', 'associated', \"we're\", 'quite', 'abst', \"we've\", 'knows', 'part', 'theyre', 'elsewhere', 'latter', 'haven', 'across', 'per', 'whats', 'about', 'recent', 'lest', 'results', 'towards', 'course', 'they', 'significantly', 'eight', 'than', 'afterwards', \"it's\", 'youre', 'itself', 'readily', 'refs', 'specified', 'w', \"where's\", 'downwards', 'during', 'whereas', 'serious', 'amount', 'between', 'begin', 'whose', \"there'll\", 'v', 'bottom', 'vs', \"aren't\", 'that', 'near', 'specify', 'section', 'ask', 'keeps', \"'ll\", 'mustn', 'front', 'presumably', 'beginning', 'somewhat', 'de', 'go', 'necessary', 'fire', \"you'll\", 'seriously', 'somethan', 'promptly', 'thereafter', 'z', 'sincere', \"can't\", 'specifying', 'while', 'hes', 'particular', 'wasnt', \"how's\", 'anything', 'amoungst', 'yes', 'page', 'past', \"'ve\", 'thousand', 'inward', 'with', 'anyways', 'contain', 'potentially', 'within', 'everything', 'her', 'end', 'other', 'describe', 'comes', 'et', 'these', 'fix', 'thanx', 'cannot', 'its', 'importance', \"won't\", 'added', 'very', 'thru', 'getting', \"you're\", 'thin', \"he's\", \"don't\", 'looks', 'forty', 'tell', 'somehow', 'indicate', 'own', 'would', 'thereto', 'ones', 'otherwise', 'known', 'd', 'probably', 'itd', 'made', 'follows', 'l', \"you've\", 'yourself', 'm', 'nd', 'taking', 'ff', 'only', 'though', 'everyone', 'b', 'whomever', 'who', 'but', 'all', 'almost', 'run', 'world', 'insofar', 'resulting', 'unlike', 'none', 'ma', \"he'd\", \"she'll\", 'wherever', 'anybody', 'must', 'apart', 'greetings', 'hopefully', 'into', 'kg', 'widely', 'significant', 'www', 'think', 'index', 'around', 'came', 'going', 'no', 'instead', 'others', 'nine', 'really', 'or', 'novel', 'mean', 'relatively', 'noone', 'herself', 'whos', 'well', 'aren', 'enough', 'lets', 'behind', 'back', 'need', 'of', 'yours', 'put', 'hereupon', 'and', 'using', 'something', 'whether', 'thanks', 'another', 'fifteen', 'what', 'weren', 'million', 'affected', 'two', 'why', 'obtain', 'empty', 'twenty', 'himself', 'oh', \"when's\", 'nonetheless', \"we'd\", 'ought', \"isn't\", 'show', 'your', 'herein', 'ignored', 'whatever', 'every', 'later', 'showns', 'before', \"they'd\", \"what'll\", 'f', \"couldn't\", 'here', 'rd', 'brief', \"didn't\", \"she's\", 'awfully', 'system', 'since', 'up', 'often', 'given', \"what's\", 'primarily', 'gave', 'best', 'needs', 'furthermore', 'thereof', \"wasn't\", 'seen', 'shed', 'theyd', 'usefully', 'against', 'so', 'particularly', 'til', 'fify', 'his', 'biol', \"here's\", \"i've\", \"haven't\", 'effect', 'became', 'nor', 'tried', 'also', 'sensible', 'know', 'ok', 'clearly', 'na', 'substantially', 'beyond', 'without', 'ca', 'new', 'certainly', 'which', 'myself', 'uses', 'tries', 'if', 'some', 'anyhow', \"who'll\", 'whoever', 'might', 'either', 'each', 'possibly', 'suggest', 'sixty', 'under', \"she'd\", 'thereupon', 'wheres', 'please', 'many', \"wouldn't\", 'according', 'be', 'co', 'sometimes', 'five', 'can', 'described', 'among', 'therein', 'our', 'useful', 'below', 'y', 'howbeit', 'que', 'even', 'them', 'nay', 'side', 'thou', 'similarly', 'until', 'found', 'willing', 'mainly', 'him', \"that've\", 'let', 'except', 'wont', 'zero', 'goes', 'eleven', 'fifth', \"mustn't\", 'is', 'yourselves', 'hid', 'four', 'somebody', \"there's\", 'tends', 'thorough', 'again', 'did', 'thereby', 'adj', 'gone', 'nothing', 'com', 'sometime', 'con', 'full', \"needn't\", 'heres', 'pages', 'may', 'value', 'cry', 'accordingly', 'previously', 'it', 'words', 'then', 'hereafter', 'allow', 'at', 'look', 'x', \"hadn't\", 'neither', 'wherein', 'you', \"why's\", 'was', 'u', 'fill', 't', 'important', 'throughout', 'this', 'ups', 'information', 'announce', 'their', 'apparently', 'wasn', 'g', 'someone', 'because', \"shan't\", 'shan', 'auth', 'trying', 'forth', 'ed', 'truly', 'way', \"he'll\", 'miss', 'i', 'lately', 'from', 'allows', 'name', 'exactly', 'above', 'ml', 'usefulness', 'were', 'could', 'down', 'wonder', 'poorly', 'concerning', 'ts', \"doesn't\", 'similar', 'home', 're', 'non', 'as', 'gotten', 'vol', 'yet', 'entirely', 'my', 'whenever', 'take', 'use', 'maybe', 'ltd', 'means', 'find', 'whence', 'far', 'shall', \"t's\", 'seems', 'looking', 'cant', 'id', \"they've\", 'to', 'thoughh', 'hereby', 'couldnt', 'unless', \"we'll\", 'im', 'little', 'mug', 'strongly', 'regards', \"c's\", 'less', 'sorry', 'arent', 'begins', 'becoming', 'thus', 'meanwhile', 'pp', 'become', \"i'll\", 'affecting', 'unfortunately', 'somewhere', 'seeming', 'ten', 'themselves', 'unlikely', \"that'll\", 'whim', 'gives', 'due', 'proud', 'll', 'c', 'makes', 'giving', 'saw', 'unto', 'related', 'ours', 'too', 'come', 'following', 'becomes', 'eighty', 'predominantly', 'ain', 'mill', 'therere', 'been', 'hasnt', 'used', 'everybody', 'ord', 'anymore', 'ah', 'make', 'an', 'different', 'get', 'said', 'thence', 'bill', 'are', 'beforehand', 'stop', 'therefore', 'a', 'thered', \"weren't\", 'j', 'nos', 'outside', 'along', 'asking', 'omitted', 'where', 'us', 'whod', 'should', 'anyway', \"hasn't\", \"who's\", \"it'd\", 'seemed', 'wouldnt', 'sup', 'ourselves', 'through', 'mr', 'few', 'hence', 'believe', \"that's\"]\n",
        "stop_words = set(stop_words)\n",
        "\n",
        "\n",
        "# Block words - words to be avoided specific to the dataset\n",
        "block_words = ['newsgroups', 'xref', 'path', 'from', 'subject', 'sender', 'organisation', 'apr','gmt', 'last','better','never','every','even','two','good','used','first','need','going','must','really','might','well','without','made','give','look','try','far','less','seem','new','make','many','way','since','using','take','help','thanks','send','free','may','see','much','want','find','would','one','like','get','use','also','could','say','us','go','please','said','set','got','sure','come','lot','seems','able','anything','put', '--', '|>', '>>', '93', 'xref', 'cantaloupe.srv.cs.cmu.edu', '20', '16', \"max>'ax>'ax>'ax>'ax>'ax>'ax>'ax>'ax>'ax>'ax>'ax>'ax>'ax>'ax>'\", '21', '19', '10', '17', '24', 'reply-to:', 'thu', 'nntp-posting-host:', 're:','25''18'\"i'd\"'>i''22''fri,''23''>the','references:','xref:','sender:','writes:','1993','organization:']\n",
        "block_words = set(block_words)"
      ],
      "execution_count": 0,
      "outputs": []
    },
    {
      "cell_type": "markdown",
      "metadata": {
        "id": "fkVI0HCtEF5X",
        "colab_type": "text"
      },
      "source": [
        "### Extracting actual data from files"
      ]
    },
    {
      "cell_type": "code",
      "metadata": {
        "id": "_QmfEfdcl_RK",
        "colab_type": "code",
        "colab": {}
      },
      "source": [
        "# get data in which x has paths of files and y has labels in numeric format\n",
        "def get_data():\n",
        "    path_all_folders = './20_newsgroups'\n",
        "\n",
        "    path_folders = os.listdir(path_all_folders)\n",
        "\n",
        "    d = {}\n",
        "    for i in range(len(path_folders)):\n",
        "        d[path_folders[i]] = i\n",
        "    \n",
        "    x = []\n",
        "    y = []\n",
        "\n",
        "\n",
        "    for i in range(len(path_folders)):\n",
        "        newsgroup_name = path_folders[i]\n",
        "\n",
        "        path_folders[i] = os.path.join(path_all_folders, path_folders[i])\n",
        "\n",
        "        files = os.listdir(path_folders[i])\n",
        "        for j in range(len(files)):\n",
        "            x.append(os.path.join(path_folders[i], files[j]))\n",
        "            y.append(d[newsgroup_name])\n",
        "\n",
        "    x = np.array(x)\n",
        "    y = np.array(y)\n",
        "    return x, y"
      ],
      "execution_count": 0,
      "outputs": []
    },
    {
      "cell_type": "code",
      "metadata": {
        "id": "5eMU2cIGmCfM",
        "colab_type": "code",
        "outputId": "9510ab4d-5f7d-41ee-b9d6-506e9ce74242",
        "colab": {
          "base_uri": "https://localhost:8080/",
          "height": 34
        }
      },
      "source": [
        "# get data and split the data\n",
        "x, y = get_data()\n",
        "x_train, x_test, y_train, y_test = train_test_split(x, y, test_size=0.2, random_state=1)\n",
        "x_train.shape, x_test.shape, y_train.shape, y_test.shape"
      ],
      "execution_count": 0,
      "outputs": [
        {
          "output_type": "execute_result",
          "data": {
            "text/plain": [
              "((15997,), (4000,), (15997,), (4000,))"
            ]
          },
          "metadata": {
            "tags": []
          },
          "execution_count": 6
        }
      ]
    },
    {
      "cell_type": "markdown",
      "metadata": {
        "id": "rN_CSOGsEbPk",
        "colab_type": "text"
      },
      "source": [
        "### Extracting meaningful words from data"
      ]
    },
    {
      "cell_type": "code",
      "metadata": {
        "id": "eQ-r92zPmUAj",
        "colab_type": "code",
        "colab": {}
      },
      "source": [
        "# cleans one line \n",
        "def clean_text(line, stop_words, block_words):\n",
        "    words = line.split()\n",
        "    clean_words = []\n",
        "    \n",
        "    # removes punctuations and digits\n",
        "    punctuation = string.punctuation + '0123456789'\n",
        "    table = str.maketrans('', '', punctuation)\n",
        "    \n",
        "    for word in words:\n",
        "        word = word.lower()\n",
        "        translated = word.translate(table)\n",
        "        \n",
        "        if word not in stop_words and translated not in stop_words and (\n",
        "                                                    word not in block_words and translated not in block_words) and len(word) > 2: \n",
        "            word = translated\n",
        "            if word == '':\n",
        "                continue\n",
        "            clean_words.append(word)\n",
        "            \n",
        "    return clean_words"
      ],
      "execution_count": 0,
      "outputs": []
    },
    {
      "cell_type": "code",
      "metadata": {
        "id": "4iVKeH0-mghp",
        "colab_type": "code",
        "colab": {}
      },
      "source": [
        "# returns the desirable words from the text\n",
        "def get_words(text, stop_words, block_words):\n",
        "    lines = text.split('\\n')[10:]\n",
        "    \n",
        "    words = []\n",
        "    \n",
        "    for line in lines:\n",
        "        cleaned_text = clean_text(line.strip(), stop_words, block_words)\n",
        "        words.extend(cleaned_text)\n",
        "        \n",
        "    return words"
      ],
      "execution_count": 0,
      "outputs": []
    },
    {
      "cell_type": "code",
      "metadata": {
        "id": "KRI0LYCyVwSw",
        "colab_type": "code",
        "colab": {}
      },
      "source": [
        "# makes dictionary\n",
        "def make_dict(words, d=None):\n",
        "    if d is None:\n",
        "        d = dict()\n",
        "    for word in words:\n",
        "        d[word] = d.get(word, 0) + 1\n",
        "    return d"
      ],
      "execution_count": 0,
      "outputs": []
    },
    {
      "cell_type": "code",
      "metadata": {
        "id": "k_1n9dkdVx6p",
        "colab_type": "code",
        "colab": {}
      },
      "source": [
        "# returns two dictionaries - one for columns/features another for making dataset\n",
        "def get_dictionary_of_file(x_train, stop_words, block_words):\n",
        "    combined_dictionary = {}\n",
        "    individual_dictionaries = {}\n",
        "    \n",
        "    for x in x_train:\n",
        "        f = open(x, errors='ignore')\n",
        "        document = f.read()\n",
        "        words = get_words(document, stop_words, block_words)\n",
        "        make_dict(words, combined_dictionary)\n",
        "        individual_dictionary = {}\n",
        "        make_dict(words, individual_dictionary)\n",
        "        \n",
        "        individual_dictionaries[x] = individual_dictionary\n",
        "        \n",
        "    return combined_dictionary, individual_dictionaries"
      ],
      "execution_count": 0,
      "outputs": []
    },
    {
      "cell_type": "code",
      "metadata": {
        "id": "AUqGpL-CVzeW",
        "colab_type": "code",
        "colab": {}
      },
      "source": [
        "# preprocessing for train\n",
        "def preprocess(x_train, y_train, stop_words, block_words):\n",
        "    cd, ids = get_dictionary_of_file(x_train, stop_words, block_words)\n",
        "        \n",
        "    features = np.array(sorted(cd.items(), key=lambda x: x[1], reverse=True)[:3000])\n",
        "    \n",
        "    df = pd.DataFrame(columns=features[:, 0])\n",
        "    df.insert(len(df.columns), 'LABEL', 0, allow_duplicates = False)\n",
        "    \n",
        "    \n",
        "    i = 0\n",
        "\n",
        "    for x in x_train:\n",
        "        df.loc[i] = 1\n",
        "        df.loc[i, 'LABEL'] = y_train[i]\n",
        "        individual_dictionary = ids[x]\n",
        "        for k, v in individual_dictionary.items():\n",
        "            if k in df.columns:\n",
        "                df.loc[i, k] += v\n",
        "        i += 1\n",
        "        if i % 1000 == 0:\n",
        "          print(i)\n",
        "    \n",
        "    return df"
      ],
      "execution_count": 0,
      "outputs": []
    },
    {
      "cell_type": "code",
      "metadata": {
        "id": "PH08A81_V1GX",
        "colab_type": "code",
        "outputId": "e5220ed5-0b9d-439c-d886-3a0c2bf45fbc",
        "colab": {
          "base_uri": "https://localhost:8080/",
          "height": 34
        }
      },
      "source": [
        "df = preprocess(x_train, y_train, stop_words, block_words)"
      ],
      "execution_count": 0,
      "outputs": [
        {
          "output_type": "stream",
          "text": [
            "1000\n"
          ],
          "name": "stdout"
        }
      ]
    },
    {
      "cell_type": "code",
      "metadata": {
        "id": "xOqb9-DgV2q4",
        "colab_type": "code",
        "colab": {}
      },
      "source": [
        "# preprocessing for test - different from train (because now the features are known)\n",
        "def preprocess_test(x_test, y_test, df, stop_words, block_words):\n",
        "    individual_dictionaries = {}\n",
        "    \n",
        "    for x in x_test:\n",
        "        f = open(x, errors='ignore')\n",
        "        document = f.read()\n",
        "        words = get_words(document, stop_words, block_words)\n",
        "\n",
        "        individual_dictionary = {}\n",
        "        make_dict(words, individual_dictionary)\n",
        "        \n",
        "        individual_dictionaries[x] = individual_dictionary\n",
        "\n",
        "    i = 0\n",
        "    df_test = pd.DataFrame()\n",
        "    \n",
        "    for col_name in df.columns:\n",
        "        df_test.insert(len(df_test.columns), col_name, 0, allow_duplicates = False)\n",
        "    \n",
        "    for x in x_test:\n",
        "        df_test.loc[i] = 1\n",
        "        df_test.loc[i, 'LABEL'] = y_test[i]\n",
        "        individual_dictionary = individual_dictionaries[x]\n",
        "        for k, v in individual_dictionary.items():\n",
        "            if k in df_test.columns:\n",
        "                df_test.loc[i, k] += v\n",
        "        i += 1\n",
        "        if i % 1000 == 0:\n",
        "          print(i)\n",
        "    \n",
        "    return df_test"
      ],
      "execution_count": 0,
      "outputs": []
    },
    {
      "cell_type": "code",
      "metadata": {
        "id": "qtWN9AjcXEzM",
        "colab_type": "code",
        "outputId": "23b2d55b-fefa-4640-827e-b7aa1bdc1f3f",
        "colab": {
          "base_uri": "https://localhost:8080/",
          "height": 86
        }
      },
      "source": [
        "df_test = preprocess_test(x_test, y_test, df, stop_words, block_words)"
      ],
      "execution_count": 0,
      "outputs": [
        {
          "output_type": "stream",
          "text": [
            "100\n",
            "200\n",
            "300\n",
            "400\n"
          ],
          "name": "stdout"
        }
      ]
    },
    {
      "cell_type": "markdown",
      "metadata": {
        "id": "ZI_sQnC8pC13",
        "colab_type": "text"
      },
      "source": [
        "### Sklearn Multinomial Naive Bayes Implementation"
      ]
    },
    {
      "cell_type": "code",
      "metadata": {
        "id": "-alqTMXYXM7j",
        "colab_type": "code",
        "outputId": "e862b626-6463-4cce-b322-792bcc0bebe4",
        "colab": {
          "base_uri": "https://localhost:8080/",
          "height": 34
        }
      },
      "source": [
        "clf = MultinomialNB()\n",
        "clf.fit(df.iloc[:, :-1], df.iloc[:, -1])\n",
        "clf.score(df.iloc[:, :-1], df.iloc[:, -1])"
      ],
      "execution_count": 0,
      "outputs": [
        {
          "output_type": "execute_result",
          "data": {
            "text/plain": [
              "0.55625"
            ]
          },
          "metadata": {
            "tags": []
          },
          "execution_count": 15
        }
      ]
    },
    {
      "cell_type": "code",
      "metadata": {
        "id": "Q-vZd-7SXRYf",
        "colab_type": "code",
        "outputId": "d7896dee-a1b5-4e0b-d23b-d1aa8184ba8e",
        "colab": {
          "base_uri": "https://localhost:8080/",
          "height": 34
        }
      },
      "source": [
        "sklearn_score = clf.score(df_test.iloc[:, :-1], df_test.iloc[:, -1])\n",
        "sklearn_score"
      ],
      "execution_count": 0,
      "outputs": [
        {
          "output_type": "execute_result",
          "data": {
            "text/plain": [
              "0.4175"
            ]
          },
          "metadata": {
            "tags": []
          },
          "execution_count": 16
        }
      ]
    },
    {
      "cell_type": "code",
      "metadata": {
        "id": "kKyZP3zCXTU6",
        "colab_type": "code",
        "outputId": "fd5d9ab2-407d-421d-c9e0-0d935996f879",
        "colab": {
          "base_uri": "https://localhost:8080/",
          "height": 363
        }
      },
      "source": [
        "print(confusion_matrix(y_pred=clf.predict(df_test.iloc[:, :-1]), y_true=y_test))"
      ],
      "execution_count": 0,
      "outputs": [
        {
          "output_type": "stream",
          "text": [
            "[[ 1  0  0  0  0  2  0  0  0  3  9  0  0  0  1  0  0  0  0  1]\n",
            " [ 0 15  0  0  0  0  0  1  0  0  6  0  0  0  0  0  0  0  0  0]\n",
            " [ 0  0 11  3  0  3  0  0  0  0  4  0  0  0  0  0  0  0  0  0]\n",
            " [ 0  0  3 10  0  3  0  0  1  0  4  0  0  0  0  0  0  0  0  0]\n",
            " [ 0  0  0  0  2  0  0  0  0  3  8  0  0  0  1  0  0  0  0  0]\n",
            " [ 0  0  0  0  0 20  0  0  0  0  1  0  0  0  1  0  0  0  0  0]\n",
            " [ 0  1  0  0  0  6 10  0  1  0  2  0  0  0  0  0  0  0  0  1]\n",
            " [ 0  0  1  0  0  3  0  7  5  0  1  0  0  1  0  0  0  0  0  0]\n",
            " [ 0  0  1  0  0  1  0  2 10  0  2  0  0  1  0  2  0  1  0  0]\n",
            " [ 0  0  0  0  0  2  0  0  0  5  8  0  0  0  2  0  0  0  0  2]\n",
            " [ 0  0  0  0  0  2  0  0  0  1 16  0  0  0  1  0  0  0  0  1]\n",
            " [ 0  1  0  0  0  6  0  1  1  0  3  7  0  0  0  0  0  0  0  0]\n",
            " [ 0  2  0  0  0  4  0  0  0  0 15  0  2  0  1  0  0  0  0  2]\n",
            " [ 0  0  0  0  0  4  0  0  2  0  2  0  0  5  0  0  0  0  2  0]\n",
            " [ 0  0  0  0  0  1  0  0  0  1  4  0  0  0 12  0  0  0  0  3]\n",
            " [ 0  0  0  0  0  4  0  0  3  0  6  0  0  0  0  5  0  0  0  0]\n",
            " [ 0  0  0  0  0  1  0  1  1  0  7  0  0  4  0  0 12  0  3  0]\n",
            " [ 0  0  0  0  0  6  0  0  0  0  6  0  0  0  1  0  0  2  1  0]\n",
            " [ 0  0  0  0  0  6  0  0  1  0  2  0  0  2  0  0  1  0  7  0]\n",
            " [ 0  0  0  0  0  1  0  0  0  3  6  0  0  0  3  0  0  0  0  8]]\n"
          ],
          "name": "stdout"
        }
      ]
    },
    {
      "cell_type": "markdown",
      "metadata": {
        "id": "iXwsoUFJpO4Z",
        "colab_type": "text"
      },
      "source": [
        "### Custom Multinomial Naive Bayes Implementation "
      ]
    },
    {
      "cell_type": "code",
      "metadata": {
        "id": "8UsVNo3kTpNU",
        "colab_type": "code",
        "colab": {}
      },
      "source": [
        "# Converting dataframe to numpy arrays for custom implementation\n",
        "data_train = df.values[:, :-1]\n",
        "labels_train = df.values[:, -1]\n",
        "data_test = df_test.values[:, :-1]\n",
        "labels_test = df_test.values[:, -1]"
      ],
      "execution_count": 0,
      "outputs": []
    },
    {
      "cell_type": "code",
      "metadata": {
        "id": "_YNx6xNLTpMM",
        "colab_type": "code",
        "colab": {}
      },
      "source": [
        "counts = {}\n",
        "labels = np.unique(labels_train)\n",
        "num_features = data_train.shape[1]"
      ],
      "execution_count": 0,
      "outputs": []
    },
    {
      "cell_type": "code",
      "metadata": {
        "id": "foT47xKQX_mb",
        "colab_type": "code",
        "colab": {}
      },
      "source": [
        "## Fitting the data - creating a dictionary to keep frequency of words\n",
        "def fit(x, y):\n",
        "    labels = np.unique(y)\n",
        "    num_features = x.shape[1]\n",
        "    counts = {}\n",
        "    counts['total_count'] = 0\n",
        "    \n",
        "    for label in labels:\n",
        "      counts[label] = dict()\n",
        "      total = 0\n",
        "\n",
        "      for feature in range(num_features):\n",
        "        val = ((x[y == label])[:, feature]).sum()\n",
        "        total += val\n",
        "        counts[label][feature] = val\n",
        "        counts['total_count'] += val\n",
        "\n",
        "      counts[label]['total_count'] = total\n",
        "\n",
        "    return counts"
      ],
      "execution_count": 0,
      "outputs": []
    },
    {
      "cell_type": "code",
      "metadata": {
        "id": "e5SCyd1QUm21",
        "colab_type": "code",
        "colab": {}
      },
      "source": [
        "counts = fit(data_train, labels_train)"
      ],
      "execution_count": 0,
      "outputs": []
    },
    {
      "cell_type": "code",
      "metadata": {
        "id": "hSAfDRFnX_pg",
        "colab_type": "code",
        "colab": {}
      },
      "source": [
        "## Function to predict the test data\n",
        "def predict(x_test, counts): \n",
        "    predictions = []\n",
        "    labels = np.unique(labels_train)\n",
        "    num_features = data_train.shape[1]\n",
        "    \n",
        "    for row in x_test:\n",
        "      max_pr = float('-inf')\n",
        "      prediction = -1\n",
        "      probability = 0\n",
        "      \n",
        "      for label in labels:\n",
        "        probability = np.log(counts[label]['total_count']) - np.log(counts['total_count'])\n",
        "        \n",
        "        for feature in range(num_features):\n",
        "          probability += row[feature]*(np.log(counts[label][feature]) - np.log(counts[label]['total_count']))\n",
        "\n",
        "        if probability > max_pr:\n",
        "          max_pr = probability\n",
        "          prediction = label\n",
        "\n",
        "      predictions.append(prediction)\n",
        "      \n",
        "    return predictions"
      ],
      "execution_count": 0,
      "outputs": []
    },
    {
      "cell_type": "code",
      "metadata": {
        "id": "Gjo-u0ZdX_rQ",
        "colab_type": "code",
        "colab": {}
      },
      "source": [
        "y_pred = predict(data_test, counts)"
      ],
      "execution_count": 0,
      "outputs": []
    },
    {
      "cell_type": "code",
      "metadata": {
        "id": "JbAaTh5WX_k9",
        "colab_type": "code",
        "outputId": "5ca205b0-3a38-4b9d-b4e2-f8cb76f67d9f",
        "colab": {
          "base_uri": "https://localhost:8080/",
          "height": 484
        }
      },
      "source": [
        "print(classification_report(y_pred = y_pred, y_true = labels_test))"
      ],
      "execution_count": 0,
      "outputs": [
        {
          "output_type": "stream",
          "text": [
            "              precision    recall  f1-score   support\n",
            "\n",
            "           0       1.00      0.06      0.11        17\n",
            "           1       0.79      0.68      0.73        22\n",
            "           2       0.69      0.52      0.59        21\n",
            "           3       0.77      0.48      0.59        21\n",
            "           4       1.00      0.14      0.25        14\n",
            "           5       0.26      0.91      0.41        22\n",
            "           6       1.00      0.48      0.65        21\n",
            "           7       0.58      0.39      0.47        18\n",
            "           8       0.40      0.50      0.44        20\n",
            "           9       0.31      0.26      0.29        19\n",
            "          10       0.14      0.76      0.24        21\n",
            "          11       1.00      0.37      0.54        19\n",
            "          12       1.00      0.04      0.07        26\n",
            "          13       0.38      0.33      0.36        15\n",
            "          14       0.52      0.57      0.55        21\n",
            "          15       0.71      0.28      0.40        18\n",
            "          16       0.92      0.41      0.57        29\n",
            "          17       0.67      0.12      0.21        16\n",
            "          18       0.50      0.32      0.39        19\n",
            "          19       0.42      0.38      0.40        21\n",
            "\n",
            "   micro avg       0.41      0.41      0.41       400\n",
            "   macro avg       0.65      0.40      0.41       400\n",
            "weighted avg       0.66      0.41      0.42       400\n",
            "\n"
          ],
          "name": "stdout"
        }
      ]
    },
    {
      "cell_type": "code",
      "metadata": {
        "id": "cUZGtdkxXIEr",
        "colab_type": "code",
        "colab": {}
      },
      "source": [
        "custom_score = accuracy_score(y_pred = y_pred, y_true = labels_test)\n",
        "custom_score"
      ],
      "execution_count": 0,
      "outputs": []
    },
    {
      "cell_type": "code",
      "metadata": {
        "id": "4yb89-VOzaGc",
        "colab_type": "code",
        "outputId": "54cbdebb-cde2-45f5-c60d-a068069ea939",
        "colab": {
          "base_uri": "https://localhost:8080/",
          "height": 363
        }
      },
      "source": [
        "print(confusion_matrix(y_pred = y_pred, y_true = labels_test))"
      ],
      "execution_count": 0,
      "outputs": [
        {
          "output_type": "stream",
          "text": [
            "[[ 1  0  0  0  0  2  0  0  0  3  9  0  0  0  1  0  0  0  0  1]\n",
            " [ 0 15  0  0  0  0  0  1  0  0  6  0  0  0  0  0  0  0  0  0]\n",
            " [ 0  0 11  3  0  3  0  0  0  0  4  0  0  0  0  0  0  0  0  0]\n",
            " [ 0  0  3 10  0  3  0  0  1  0  4  0  0  0  0  0  0  0  0  0]\n",
            " [ 0  0  0  0  2  0  0  0  0  3  8  0  0  0  1  0  0  0  0  0]\n",
            " [ 0  0  0  0  0 20  0  0  0  0  1  0  0  0  1  0  0  0  0  0]\n",
            " [ 0  1  0  0  0  6 10  0  1  0  2  0  0  0  0  0  0  0  0  1]\n",
            " [ 0  0  1  0  0  3  0  7  5  0  1  0  0  1  0  0  0  0  0  0]\n",
            " [ 0  0  1  0  0  1  0  2 10  0  2  0  0  1  0  2  0  1  0  0]\n",
            " [ 0  0  0  0  0  2  0  0  0  5  8  0  0  0  2  0  0  0  0  2]\n",
            " [ 0  0  0  0  0  2  0  0  0  1 16  0  0  0  1  0  0  0  0  1]\n",
            " [ 0  1  0  0  0  6  0  1  1  0  3  7  0  0  0  0  0  0  0  0]\n",
            " [ 0  2  0  0  0  4  0  0  0  0 15  0  1  0  1  0  0  0  0  3]\n",
            " [ 0  0  0  0  0  4  0  0  2  0  2  0  0  5  0  0  0  0  2  0]\n",
            " [ 0  0  0  0  0  1  0  0  0  1  4  0  0  0 12  0  0  0  0  3]\n",
            " [ 0  0  0  0  0  4  0  0  3  0  6  0  0  0  0  5  0  0  0  0]\n",
            " [ 0  0  0  0  0  1  0  1  1  0  7  0  0  4  0  0 12  0  3  0]\n",
            " [ 0  0  0  0  0  6  0  0  0  0  6  0  0  0  1  0  0  2  1  0]\n",
            " [ 0  0  0  0  0  7  0  0  1  0  2  0  0  2  0  0  1  0  6  0]\n",
            " [ 0  0  0  0  0  1  0  0  0  3  6  0  0  0  3  0  0  0  0  8]]\n"
          ],
          "name": "stdout"
        }
      ]
    },
    {
      "cell_type": "markdown",
      "metadata": {
        "id": "7cvne3-CFeS2",
        "colab_type": "text"
      },
      "source": [
        "### Comparison between Sklearn's Multinomial Naive Bayes and Custom Implementation of Multinomial Naive Bayes"
      ]
    },
    {
      "cell_type": "code",
      "metadata": {
        "id": "nyMby23wCLZV",
        "colab_type": "code",
        "colab": {}
      },
      "source": [
        "print(\"Accuracy for sklearn MultinomialNB() - \", sklearn_score)\n",
        "print(\"Accuracy for self-implemented Naive Bayes - \", custom_score)"
      ],
      "execution_count": 0,
      "outputs": []
    }
  ]
}